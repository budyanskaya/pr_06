{
 "cells": [
  {
   "cell_type": "code",
   "execution_count": 1,
   "id": "7896c37d",
   "metadata": {},
   "outputs": [
    {
     "name": "stdout",
     "output_type": "stream",
     "text": [
      "Requirement already satisfied: psycopg2 in c:\\users\\пользователь\\desktop\\sql\\.venv\\lib\\site-packages (2.9.10)\n",
      "Note: you may need to restart the kernel to use updated packages.\n"
     ]
    }
   ],
   "source": [
    "%pip install psycopg2"
   ]
  },
  {
   "cell_type": "code",
   "execution_count": 3,
   "id": "12c7679c",
   "metadata": {},
   "outputs": [],
   "source": [
    "import psycopg2\n",
    "from psycopg2 import Error"
   ]
  },
  {
   "cell_type": "markdown",
   "id": "687e3dae",
   "metadata": {},
   "source": [
    "## 1. Подключаемся заранее к созданной базе данных и создаем нужные нам таблицы public_transportation_statistics_by_zip_code, с которыми мы будем в будущем работать"
   ]
  },
  {
   "cell_type": "code",
   "execution_count": null,
   "id": "24b9939b",
   "metadata": {},
   "outputs": [
    {
     "name": "stdout",
     "output_type": "stream",
     "text": [
      "Таблица 'public_transportation_statistics_by_zip_code' успешно создана\n",
      "Соединение с PostgreSQL закрыто\n"
     ]
    }
   ],
   "source": [
    "import psycopg2\n",
    "\n",
    "def get_connection(database_name):\n",
    "    # Прописываем функцию для подключения к нашей базе данных\n",
    "    connection = psycopg2.connect(user=\"postgres\",\n",
    "                                  password=\"26102006\",\n",
    "                                  host=\"localhost\",\n",
    "                                  port=\"5432\",\n",
    "                                  database=database_name)\n",
    "    return connection\n",
    "\n",
    "def close_connection(connection):\n",
    "    # Также сразу пишем функцию для закрытия подключения\n",
    "    if connection:\n",
    "        connection.close()\n",
    "        print(\"Соединение с PostgreSQL закрыто\")\n",
    "\n",
    "try:\n",
    "    connection = get_connection(\"BD1\")\n",
    "    cursor = connection.cursor()\n",
    "\n",
    "    # Создаем таблицу \n",
    "    create_table_query = '''\n",
    "    CREATE TABLE public_transportation_statistics_by_zip_code(\n",
    "        zip_code character varying(10) NOT NULL PRIMARY KEY,\n",
    "        public_transportation_pct numeric(15,2) NOT NULL,\n",
    "        public_transportation_population integer\n",
    "    );\n",
    "    '''\n",
    "    cursor.execute(create_table_query)\n",
    "    connection.commit()\n",
    "    print(\"Таблица 'public_transportation_statistics_by_zip_code' успешно создана\")\n",
    "\n",
    "except (Exception, psycopg2.Error) as error:\n",
    "    print(\"Ошибка при подключении или работе с PostgreSQL:\", error)\n",
    "\n",
    "finally:\n",
    "    # Закрываем подключения к базе данных\n",
    "    if connection:\n",
    "        close_connection(connection)"
   ]
  },
  {
   "cell_type": "markdown",
   "id": "46272155",
   "metadata": {},
   "source": [
    "## 2. Скопируем данные public_transportation_statistics_by_zip_code.csv в базы данных клиентов организации, в предварительно созданную нами таблицу."
   ]
  },
  {
   "cell_type": "code",
   "execution_count": null,
   "id": "f6d267ed",
   "metadata": {},
   "outputs": [
    {
     "name": "stdout",
     "output_type": "stream",
     "text": [
      "Данные успешно вставлены в таблицу 'public_transportation_statistics_by_zip_code'\n",
      "Соединение с PostgreSQL закрыто\n"
     ]
    }
   ],
   "source": [
    "import psycopg2\n",
    "import os\n",
    "\n",
    "def get_connection(database_name):\n",
    "    # Прописываем функцию для подключения к нашей базе данных\n",
    "    connection = psycopg2.connect(user=\"postgres\",\n",
    "                                  password=\"26102006\",\n",
    "                                  host=\"localhost\",\n",
    "                                  port=\"5432\",\n",
    "                                  database=database_name)\n",
    "    return connection\n",
    "\n",
    "def close_connection(connection):\n",
    "    # Также сразу пишем функцию для закрытия подключения\n",
    "    if connection:\n",
    "        connection.close()\n",
    "        print(\"Соединение с PostgreSQL закрыто\")\n",
    "\n",
    "try:\n",
    "    connection = get_connection(\"BD1\")\n",
    "    cursor = connection.cursor()\n",
    "\n",
    "# Прописываем путь к месту, где хранится CSV-файл\n",
    "    csv_file_path = r\"C:\\Users\\Пользователь\\Desktop\\SQL\\public_transportation_statistics_by_zip_code.csv\"\n",
    "\n",
    "    # Проверяем сущестует ли файл\n",
    "    if not os.path.exists(csv_file_path):\n",
    "        print(f\"ОШИБКА: Файл '{csv_file_path}' не найден.\")\n",
    "        raise False # Возвращаем False при неудаче\n",
    "    \n",
    "    # Вставляем данные из CSV-файла с использованием COPY\n",
    "    with open(csv_file_path, 'r') as file:\n",
    "        copy_query = \"\"\"\n",
    "        COPY public_transportation_statistics_by_zip_code(zip_code, public_transportation_pct, public_transportation_population)\n",
    "        FROM STDIN WITH (FORMAT csv, HEADER true, DELIMITER ',');\n",
    "        \"\"\"\n",
    "        cursor.copy_expert(copy_query, file)\n",
    "        connection.commit()\n",
    "        print(\"Данные успешно вставлены в таблицу 'public_transportation_statistics_by_zip_code'\")\n",
    "\n",
    "except (Exception, psycopg2.Error) as error:\n",
    "    print(\"Ошибка при подключении или работе с PostgreSQL:\", error)\n",
    "\n",
    "finally:\n",
    "    # Закрываем подключения к базе данных\n",
    "    if connection:\n",
    "        close_connection(connection)"
   ]
  },
  {
   "cell_type": "markdown",
   "id": "8e2ddc7f",
   "metadata": {},
   "source": [
    "## 3. Теперь найдем максимальное и минимальное процентное соотношение в данных. Значения ниже 0 будем принимать как пустое значение."
   ]
  },
  {
   "cell_type": "code",
   "execution_count": 4,
   "id": "2a66bfcb",
   "metadata": {},
   "outputs": [
    {
     "name": "stdout",
     "output_type": "stream",
     "text": [
      "Максимальное процентное соотношение: 100.00\n",
      "Минимальное процентное соотношение: 0.00\n",
      "Соединение с PostgreSQL закрыто\n"
     ]
    }
   ],
   "source": [
    "import psycopg2\n",
    "\n",
    "def get_connection(database_name):\n",
    "    # Прописываем функцию для подключения к нашей базе данных\n",
    "    connection = psycopg2.connect(user=\"postgres\",\n",
    "                                  password=\"26102006\",\n",
    "                                  host=\"localhost\",\n",
    "                                  port=\"5432\",\n",
    "                                  database=database_name)\n",
    "    return connection\n",
    "\n",
    "def close_connection(connection):\n",
    "    # Также сразу пишем функцию для закрытия подключения\n",
    "    if connection:\n",
    "        connection.close()\n",
    "        print(\"Соединение с PostgreSQL закрыто\")\n",
    "\n",
    "try:\n",
    "    connection = get_connection(\"BD1\")\n",
    "    cursor = connection.cursor()\n",
    "\n",
    "    # Составим запрос для того чтобы найти максимальное и минимальное значение процентного соотношения\n",
    "    query = \"\"\"\n",
    "    SELECT \n",
    "    MAX(public_transportation_pct) AS max_pct,\n",
    "    MIN(public_transportation_pct) AS min_pct\n",
    "    FROM public_transportation_statistics_by_zip_code\n",
    "    WHERE public_transportation_pct >= 0;\n",
    "    \"\"\"\n",
    "    cursor.execute(query)\n",
    "    result = cursor.fetchone()\n",
    "    max_pct, min_pct = result\n",
    "    print(f\"Максимальное процентное соотношение: {max_pct}\")\n",
    "    print(f\"Минимальное процентное соотношение: {min_pct}\")\n",
    "\n",
    "except (Exception, psycopg2.Error) as error:\n",
    "    print(\"Ошибка при подключении или работе с PostgreSQL:\", error)\n",
    "\n",
    "finally:\n",
    "    # Закрывам подключения к базе данных\n",
    "    if connection:\n",
    "        close_connection(connection)"
   ]
  },
  {
   "cell_type": "markdown",
   "id": "b76905b3",
   "metadata": {},
   "source": [
    "## 4. Теперь рассчитаем средний объем продаж для клиентов в регионах с высоким уровнем использования общественного транспорта (более 10%), а также с низким уровнем использования общественного транспорта (меньше или равным 10%)."
   ]
  },
  {
   "cell_type": "code",
   "execution_count": 5,
   "id": "c61cb6ae",
   "metadata": {},
   "outputs": [
    {
     "name": "stdout",
     "output_type": "stream",
     "text": [
      "Уровень использования транспорта | Средний объем продаж\n",
      "low_transport | 7261.72734653827\n",
      "high_transport | 6501.975632632401\n",
      "Соединение с PostgreSQL закрыто\n"
     ]
    }
   ],
   "source": [
    "import psycopg2\n",
    "\n",
    "def get_connection(database_name):\n",
    "    # Прописываем функцию для подключения к нашей базе данных\n",
    "    connection = psycopg2.connect(user=\"postgres\",\n",
    "                                  password=\"26102006\",\n",
    "                                  host=\"localhost\",\n",
    "                                  port=\"5432\",\n",
    "                                  database=database_name)\n",
    "    return connection\n",
    "\n",
    "def close_connection(connection):\n",
    "    # Также сразу пишем функцию для закрытия подключения\n",
    "    if connection:\n",
    "        connection.close()\n",
    "        print(\"Соединение с PostgreSQL закрыто\")\n",
    "\n",
    "try:\n",
    "    connection = get_connection(\"BD1\")\n",
    "    cursor = connection.cursor()\n",
    "\n",
    "    # Запишем SQL-запрос для расчета среднего объема продаж\n",
    "    query = \"\"\"\n",
    "    SELECT \n",
    "    CASE \n",
    "        WHEN pts.public_transportation_pct > 10 THEN 'high_transport'\n",
    "        ELSE 'low_transport'\n",
    "    END AS \"transport_level\",\n",
    "    AVG(s.sales_amount) AS \"average sales volume\"\n",
    "    FROM \n",
    "    sales s\n",
    "    JOIN \n",
    "    customers c ON s.customer_id = c.customer_id\n",
    "    JOIN \n",
    "    public_transportation_statistics_by_zip_code pts ON c.postal_code = pts.zip_code\n",
    "    GROUP BY \n",
    "    CASE \n",
    "        WHEN pts.public_transportation_pct > 10 THEN 'high_transport'\n",
    "        ELSE 'low_transport'\n",
    "    END;\n",
    "    \"\"\"\n",
    "    cursor.execute(query)\n",
    "    results = cursor.fetchall()\n",
    "\n",
    "# Выводим результат\n",
    "    print(\"Уровень использования транспорта | Средний объем продаж\")\n",
    "    for row in results:\n",
    "        category, avg_sales = row\n",
    "        print(f\"{category} | {avg_sales}\")\n",
    "\n",
    "except (Exception, psycopg2.Error) as error:\n",
    "    print(\"Ошибка при подключении или работе с PostgreSQL:\", error)\n",
    "\n",
    "finally:\n",
    "    # Закрываем подключения к базе данных\n",
    "    if connection:\n",
    "        close_connection(connection)"
   ]
  },
  {
   "cell_type": "markdown",
   "id": "fb87cf54",
   "metadata": {},
   "source": [
    "## 5. Теперь нам нужно загрузить данные в pandas и построить распределение гистограммы (используя my_data.plot.hist(y='public_transportation_pct') для построения гистограммы)."
   ]
  },
  {
   "cell_type": "code",
   "execution_count": 10,
   "id": "5f50d883",
   "metadata": {},
   "outputs": [
    {
     "name": "stderr",
     "output_type": "stream",
     "text": [
      "C:\\Users\\Пользователь\\AppData\\Local\\Temp\\ipykernel_19348\\4040927319.py:21: UserWarning: pandas only supports SQLAlchemy connectable (engine/connection) or database string URI or sqlite3 DBAPI2 connection. Other DBAPI2 objects are not tested. Please consider using SQLAlchemy.\n",
      "  my_data = pandas.read_sql(query, connection)\n"
     ]
    },
    {
     "data": {
      "image/png": "[encoded data removed]",
      "text/plain": [
       "<Figure size 640x480 with 1 Axes>"
      ]
     },
     "metadata": {},
     "output_type": "display_data"
    },
    {
     "name": "stdout",
     "output_type": "stream",
     "text": [
      "Соединение с PostgreSQL закрыто\n"
     ]
    }
   ],
   "source": [
    "import psycopg2\n",
    "import pandas\n",
    "import matplotlib.pyplot as plt\n",
    "\n",
    "def get_connection(database_name):\n",
    "    # Прописываем функцию для подключения к нашей базе данных\n",
    "    connection = psycopg2.connect(user=\"postgres\",\n",
    "                                  password=\"26102006\",\n",
    "                                  host=\"localhost\",\n",
    "                                  port=\"5432\",\n",
    "                                  database=database_name)\n",
    "    return connection\n",
    "\n",
    "try:\n",
    "    connection = get_connection(\"BD1\")\n",
    "    \n",
    "    # Пишем SQL-запрос для выборки нужных данных\n",
    "    query = \"SELECT * FROM public_transportation_statistics_by_zip_code WHERE public_transportation_pct >= 0;\"\n",
    "    \n",
    "    # Загрузим данные в DataFrame\n",
    "    my_data = pandas.read_sql(query, connection)\n",
    "\n",
    "    # Проведем построение гистограммы распределения\n",
    "    my_data.plot.hist(y='public_transportation_pct', color='grey')\n",
    "    plt.title('Гистограмма распределения')\n",
    "    plt.xlabel('Доля пользователей общественного транспорта')\n",
    "    plt.ylabel('Частота')\n",
    "    plt.show()\n",
    "\n",
    "except (Exception, psycopg2.Error) as error:\n",
    "    print(\"Ошибка при подключении или работе с PostgreSQL:\", error)\n",
    "\n",
    "finally:\n",
    "    # Закрываем подключения к базе данных\n",
    "    if connection:\n",
    "        connection.close()\n",
    "        print(\"Соединение с PostgreSQL закрыто\")"
   ]
  },
  {
   "cell_type": "markdown",
   "id": "a1cc34ae",
   "metadata": {},
   "source": [
    "## 6. Теперь группируем клиентов по их почтовому индексу и проверяем среднее количество транзакций для одного клиента. Затем экспортируем эти данные в Excel и создаем диаграмму рассеяния, чтобы лучше понять взаимосвязь между использованием общественного транспорта и продажами."
   ]
  },
  {
   "cell_type": "code",
   "execution_count": null,
   "id": "2a6a7c28",
   "metadata": {},
   "outputs": [
    {
     "name": "stdout",
     "output_type": "stream",
     "text": [
      "Данные успешно экспортированы в файл: analysis_sales.csv\n"
     ]
    },
    {
     "name": "stderr",
     "output_type": "stream",
     "text": [
      "C:\\Users\\Пользователь\\AppData\\Local\\Temp\\ipykernel_19348\\53306580.py:33: UserWarning: pandas only supports SQLAlchemy connectable (engine/connection) or database string URI or sqlite3 DBAPI2 connection. Other DBAPI2 objects are not tested. Please consider using SQLAlchemy.\n",
      "  data = pandas.read_sql(query, connection)\n"
     ]
    },
    {
     "data": {
      "image/png": "[encoded data removed]",
      "text/plain": [
       "<Figure size 640x480 with 1 Axes>"
      ]
     },
     "metadata": {},
     "output_type": "display_data"
    },
    {
     "name": "stdout",
     "output_type": "stream",
     "text": [
      "Соединение с PostgreSQL закрыто\n"
     ]
    }
   ],
   "source": [
    "import psycopg2\n",
    "import pandas\n",
    "import matplotlib.pyplot as plt\n",
    "\n",
    "def get_connection(database_name):\n",
    "    # Прописываем функцию для подключения к нашей базе данных\n",
    "    connection = psycopg2.connect(user=\"postgres\",\n",
    "                                  password=\"26102006\",\n",
    "                                  host=\"localhost\",\n",
    "                                  port=\"5432\",\n",
    "                                  database=database_name)\n",
    "    return connection\n",
    "\n",
    "try:\n",
    "    connection = get_connection(\"BD1\")\n",
    "    \n",
    "    # Составляем SQL-запрос для группировки данных по zip_code\n",
    "    query = \"\"\"SELECT pts.zip_code,\n",
    "    COUNT(DISTINCT c.customer_id) AS customer_count,\n",
    "    COUNT(*) / COUNT(DISTINCT c.customer_id) AS avg_transactions,\n",
    "    AVG(s.sales_amount) AS avg_sales_amount, pts.public_transportation_pct\n",
    "    FROM \n",
    "        customers c\n",
    "    JOIN \n",
    "        sales s ON c.customer_id = s.customer_id\n",
    "    JOIN \n",
    "        public_transportation_statistics_by_zip_code pts ON c.postal_code = pts.zip_code\n",
    "    WHERE public_transportation_pct >= 0\n",
    "    GROUP BY pts.zip_code, pts.public_transportation_pct;\n",
    "    \"\"\"\n",
    "    \n",
    "    # Загрузим данные в DataFrame\n",
    "    data = pandas.read_sql(query, connection)\n",
    "\n",
    "    # После экспортируем данные в CSV\n",
    "    csv_file = \"analysis_sales.csv\"\n",
    "    data.to_csv(csv_file, index=False)\n",
    "    print(f\"Данные успешно экспортированы в файл: {csv_file}\")\n",
    "\n",
    "    # Построим диаграмму рассеяния\n",
    "    plt.scatter(data['public_transportation_pct'], data['avg_sales_amount'], color='grey')\n",
    "    plt.title('Корреляция между уровнем использования общественного транспорта и объемом продаж')\n",
    "    plt.xlabel('Доля пользователей общественного транспорта')\n",
    "    plt.ylabel('Средний объем продаж')\n",
    "    plt.show()\n",
    "\n",
    "except (Exception, psycopg2.Error) as error:\n",
    "    print(\"Ошибка при подключении или работе с PostgreSQL:\", error)\n",
    "\n",
    "finally:\n",
    "    # Закрываем подключения к базе данных\n",
    "    if connection:\n",
    "        connection.close()\n",
    "        print(\"Соединение с PostgreSQL закрыто\")"
   ]
  }
 ],
 "metadata": {
  "kernelspec": {
   "display_name": ".venv",
   "language": "python",
   "name": "python3"
  },
  "language_info": {
   "codemirror_mode": {
    "name": "ipython",
    "version": 3
   },
   "file_extension": ".py",
   "mimetype": "text/x-python",
   "name": "python",
   "nbconvert_exporter": "python",
   "pygments_lexer": "ipython3",
   "version": "3.11.9"
  }
 },
 "nbformat": 4,
 "nbformat_minor": 5
}
